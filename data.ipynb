{
 "cells": [
  {
   "attachments": {},
   "cell_type": "markdown",
   "metadata": {},
   "source": [
    "# Visual-Bar dataset"
   ]
  },
  {
   "attachments": {},
   "cell_type": "markdown",
   "metadata": {},
   "source": [
    "1. Define the random variables $U_i$ where $i$ ranges from 1 to 5:\n",
    "\n",
    "$$U_1, U_2 \\sim \\text{Uniform}(0,1)$$\n",
    "\n",
    "$$U_3, U_4, U_5 \\sim \\mathcal{N}(0,1)$$\n",
    "\n",
    "2. Generate hidden binary variables $H_1$ and $H_2$ based on $U_1$ and $U_2$:\n",
    "\n",
    "$$H_1 = \\mathbf{1}_{U_1 < 0.5}$$\n",
    "\n",
    "$$H_2 = \\mathbf{1}_{U_2 < 0.5}$$\n",
    "\n",
    "3. The image variables Vbar and Hbar are defined based on $H_1$, $H_2$, $U_3$, and $U_4$:\n",
    "\n",
    "$$Vbar = f_{V}(H1, U_3) = H1 \\text{ OR } (U_3 > \\text{noise\\_threshold})$$\n",
    "\n",
    "$$Hbar = f_{H}(H2, U_4) = H2 \\text{ OR } (U_4 > \\text{noise\\_threshold})$$\n",
    "\n",
    "The existence of a vertical bar Vbar in the image is determined by $H_1$ or the noise $U_3$ exceeding a threshold. Similarly, the existence of a horizontal bar Hbar in the image is determined by $H_2$ or the noise $U_4$ exceeding a threshold.\n",
    "\n",
    "4. The target variable $T$ is defined based on $H1$, Hbar, and $U_5$:\n",
    "\n",
    "$$T = f_{T}(H1, Hbar, U_5) = (H1 \\text{ AND } (U_5 > \\text{t\\_h1\\_threshold})) \\text{ OR } (Hbar \\text{ AND } (U_5 > \\text{t\\_hbar\\_threshold}))$$\n",
    "\n",
    "The value of $T$ is determined by the existence of H1 and Hbar and the noise $U_5$ exceeding a specific threshold."
   ]
  },
  {
   "attachments": {},
   "cell_type": "markdown",
   "metadata": {},
   "source": [
    "## Generate Noise Images"
   ]
  },
  {
   "cell_type": "code",
   "execution_count": 211,
   "metadata": {},
   "outputs": [],
   "source": [
    "import numpy as np\n",
    "\n",
    "# Define parameters\n",
    "im_shape = (10, 10)\n",
    "N = 1000000\n",
    "noise_lvl = 0.1\n",
    "\n",
    "# Set a random seed for reproducibility\n",
    "np.random.seed(0)\n",
    "\n",
    "# Initialize images with noise\n",
    "X_images = np.random.random((N, im_shape[0], im_shape[1])) < noise_lvl\n",
    "X_images = X_images.astype('float32')"
   ]
  },
  {
   "cell_type": "code",
   "execution_count": 212,
   "metadata": {},
   "outputs": [],
   "source": [
    "# Show 10 images by random samples\n",
    "import matplotlib.pyplot as plt\n",
    "\n",
    "def display_random_images(X_images, N, n_images=10):\n",
    "    \"\"\"\n",
    "    Display random images from the given array of images.\n",
    "    \n",
    "    Parameters:\n",
    "    X_images (numpy.array): An array of images.\n",
    "    N (int): The total number of images from which to select.\n",
    "    n_images (int, optional): The number of images to display. Defaults to 10.\n",
    "    \n",
    "    Returns:\n",
    "    None\n",
    "    \"\"\"\n",
    "    # Select random images\n",
    "    indices = np.random.choice(N, n_images, replace=False)\n",
    "    selected_images = X_images[indices]\n",
    "\n",
    "    # Determine grid shape\n",
    "    grid_shape = (n_images // 5, 5) if n_images > 5 else (1, n_images)\n",
    "\n",
    "    # Plot images\n",
    "    fig, axes = plt.subplots(*grid_shape, figsize=(10, 4))\n",
    "\n",
    "    if n_images > 1:\n",
    "        for i, ax in enumerate(axes.flat):\n",
    "            ax.imshow(selected_images[i], cmap='gray')\n",
    "            ax.axis('off')\n",
    "    else:\n",
    "        axes.imshow(selected_images[0], cmap='gray')\n",
    "        axes.axis('off')\n",
    "\n",
    "    plt.tight_layout()\n",
    "    plt.show()"
   ]
  },
  {
   "cell_type": "code",
   "execution_count": 213,
   "metadata": {},
   "outputs": [
    {
     "data": {
      "image/png": "[encoded data removed]",
      "text/plain": [
       "<Figure size 1000x400 with 10 Axes>"
      ]
     },
     "metadata": {},
     "output_type": "display_data"
    }
   ],
   "source": [
    "display_random_images(X_images, N)"
   ]
  },
  {
   "attachments": {},
   "cell_type": "markdown",
   "metadata": {},
   "source": [
    "## Generate H1/H2 Hidden Variables"
   ]
  },
  {
   "cell_type": "code",
   "execution_count": 214,
   "metadata": {},
   "outputs": [
    {
     "name": "stdout",
     "output_type": "stream",
     "text": [
      "[0 1 1 ... 0 0 1]\n",
      "[1 1 0 ... 1 1 0]\n"
     ]
    }
   ],
   "source": [
    "# sample H1, H2 from uniform dist with p=0.5\n",
    "\n",
    "def generate_samples(n):\n",
    "    return np.where(np.random.uniform(size=n) < 0.5, 1, 0)\n",
    "\n",
    "# Generate 2500 H1 random variables\n",
    "h1 = generate_samples(N)\n",
    "print(h1)\n",
    "\n",
    "# Generate 2500 H2 random variables\n",
    "h2 = generate_samples(N)\n",
    "print(h2)"
   ]
  },
  {
   "attachments": {},
   "cell_type": "markdown",
   "metadata": {},
   "source": [
    "## Generate Vertical/Horizontal Bars"
   ]
  },
  {
   "cell_type": "code",
   "execution_count": 215,
   "metadata": {},
   "outputs": [],
   "source": [
    "# Define noise threshold\n",
    "noise_threshold = 0.5\n",
    "\n",
    "# Generate U3 and U4 for each sample\n",
    "U3 = np.random.normal(0, 1, N)\n",
    "U4 = np.random.normal(0, 1, N)\n",
    "\n",
    "# For each sample, generate Hbar and Vbar\n",
    "Hbar = (h2 == 1) | (U4 > noise_threshold)\n",
    "Vbar = (h1 == 1) | (U3 > noise_threshold)\n",
    "\n",
    "# For each sample, add vertical bar if Vbar[i] == 1\n",
    "# and horizontal bar if Hbar[i] == 1\n",
    "for i in range(N):\n",
    "    if Vbar[i]:\n",
    "        # Add vertical bar in the middle of the image\n",
    "        X_images[i, :, im_shape[1] // 2] = 1\n",
    "    if Hbar[i]:\n",
    "        # Add horizontal bar in the middle of the image\n",
    "        X_images[i, im_shape[0] // 2, :] = 1"
   ]
  },
  {
   "cell_type": "code",
   "execution_count": 216,
   "metadata": {},
   "outputs": [
    {
     "data": {
      "image/png": "[encoded data removed]",
      "text/plain": [
       "<Figure size 1000x400 with 10 Axes>"
      ]
     },
     "metadata": {},
     "output_type": "display_data"
    }
   ],
   "source": [
    "display_random_images(X_images, N)"
   ]
  },
  {
   "attachments": {},
   "cell_type": "markdown",
   "metadata": {},
   "source": [
    "## Generate Target Variables"
   ]
  },
  {
   "cell_type": "code",
   "execution_count": 217,
   "metadata": {},
   "outputs": [
    {
     "name": "stdout",
     "output_type": "stream",
     "text": [
      "[False False False ...  True False False]\n"
     ]
    }
   ],
   "source": [
    "def generate_T(h1, Hbar, U5):\n",
    "    # Define thresholds\n",
    "    T_h1_threshold = 0.5\n",
    "    T_hbar_threshold = 0.5\n",
    "\n",
    "    # Compute T\n",
    "    T = np.logical_or(np.logical_and(h1, U5 > T_h1_threshold), np.logical_and(Hbar, U5 > T_hbar_threshold))\n",
    "\n",
    "    return T\n",
    "\n",
    "# Generate U5 for each sample\n",
    "U5 = np.random.normal(0, 1, N)\n",
    "\n",
    "# Use the function to generate T\n",
    "T = generate_T(h1, Hbar, U5)\n",
    "\n",
    "print(T)"
   ]
  },
  {
   "cell_type": "code",
   "execution_count": 218,
   "metadata": {},
   "outputs": [
    {
     "data": {
      "image/png": "[encoded data removed]",
      "text/plain": [
       "<Figure size 1000x400 with 10 Axes>"
      ]
     },
     "metadata": {},
     "output_type": "display_data"
    }
   ],
   "source": [
    "# Select 10 random indices\n",
    "indices = np.random.choice(N, 10, replace=False)\n",
    "selected_images = X_images[indices]\n",
    "selected_T = T[indices]\n",
    "\n",
    "# Plot images with corresponding T values\n",
    "fig, axes = plt.subplots(2, 5, figsize=(10, 4))\n",
    "\n",
    "for i, ax in enumerate(axes.flat):\n",
    "    ax.imshow(selected_images[i], cmap='gray')\n",
    "    ax.set_title(f'T = {selected_T[i]}')\n",
    "    ax.axis('off')\n",
    "\n",
    "plt.tight_layout()\n",
    "plt.show()"
   ]
  },
  {
   "cell_type": "code",
   "execution_count": 219,
   "metadata": {},
   "outputs": [
    {
     "name": "stdout",
     "output_type": "stream",
     "text": [
      "[False  True  True ...  True False  True]\n",
      "[ True  True False ...  True  True False]\n"
     ]
    }
   ],
   "source": [
    "print(Vbar)\n",
    "print(Hbar)"
   ]
  },
  {
   "cell_type": "code",
   "execution_count": 220,
   "metadata": {},
   "outputs": [
    {
     "name": "stdout",
     "output_type": "stream",
     "text": [
      "E[T|Vbar=1]:  0.2828959339672986\n",
      "E[T|Vbar=0]:  0.2016467208637626\n",
      "E[T|Vbar=1] - E[T|Vbar=0]:  0.08124921310353603\n",
      "E[T|Hbar=1]:  0.30836076829094866\n",
      "E[T|Hbar=0]:  0.15352181464559328\n",
      "E[T|Hbar=1] - E[T|Hbar=0]:  0.15483895364535538\n"
     ]
    }
   ],
   "source": [
    "# Compute expected value of T when Vbar is present\n",
    "Vbar_present = Vbar\n",
    "T_Vbar_present = T[Vbar_present].mean()\n",
    "\n",
    "# Compute expected value of T when Vbar is absent\n",
    "Vbar_absent = ~Vbar\n",
    "T_Vbar_absent = T[Vbar_absent].mean()\n",
    "\n",
    "# Compute expected value of T when Hbar is present\n",
    "Hbar_present = Hbar\n",
    "T_Hbar_present = T[Hbar_present].mean()\n",
    "\n",
    "# Compute expected value of T when Hbar is absent\n",
    "Hbar_absent = ~Hbar\n",
    "T_Hbar_absent = T[Hbar_absent].mean()\n",
    "\n",
    "print(\"E[T|Vbar=1]: \", T_Vbar_present)\n",
    "print(\"E[T|Vbar=0]: \", T_Vbar_absent)\n",
    "\n",
    "# compute the difference between E[T|Vbar=1] and E[T|Vbar=0]\n",
    "print(\"E[T|Vbar=1] - E[T|Vbar=0]: \", T_Vbar_present - T_Vbar_absent)\n",
    "\n",
    "print(\"E[T|Hbar=1]: \", T_Hbar_present)\n",
    "print(\"E[T|Hbar=0]: \", T_Hbar_absent)\n",
    "\n",
    "# compute the difference between E[T|Hbar=1] and E[T|Hbar=0]\n",
    "print(\"E[T|Hbar=1] - E[T|Hbar=0]: \", T_Hbar_present - T_Hbar_absent)"
   ]
  },
  {
   "cell_type": "code",
   "execution_count": 221,
   "metadata": {},
   "outputs": [
    {
     "name": "stdout",
     "output_type": "stream",
     "text": [
      "Correlation between Vbar and T:  0.08870053801403331\n"
     ]
    }
   ],
   "source": [
    "# Convert boolean arrays to integer arrays for correlation computation\n",
    "Vbar_int = Vbar.astype(int)\n",
    "T_int = T.astype(int)\n",
    "\n",
    "# Compute and print the correlation\n",
    "correlation_Vbar_T = np.corrcoef(Vbar_int, T_int)[0, 1]\n",
    "print(\"Correlation between Vbar and T: \", correlation_Vbar_T)"
   ]
  },
  {
   "attachments": {},
   "cell_type": "markdown",
   "metadata": {},
   "source": [
    "## Interventional Distribution\n",
    "\n",
    "- Intervention doesn't affect the causal upstream (parent)"
   ]
  },
  {
   "attachments": {},
   "cell_type": "markdown",
   "metadata": {},
   "source": [
    "### Vbar\n",
    "\n",
    "In case of intervening on Vbar, interventing doesn't affect $h_1$ because $h_1$ is upstream of Vbar."
   ]
  },
  {
   "cell_type": "code",
   "execution_count": 222,
   "metadata": {},
   "outputs": [
    {
     "name": "stdout",
     "output_type": "stream",
     "text": [
      "E[T|do(Vbar=1)]:  0.254782\n",
      "E[T|do(Vbar=0)]:  0.254782\n",
      "E[T|do(Vbar=1)] - E[T|do(Vbar=0)]:  0.0\n"
     ]
    }
   ],
   "source": [
    "# Simulate data under do(Vbar=1) and do(Vbar=0)\n",
    "Vbar_do_1 = np.ones(N, dtype=bool) # not gonna be used in T gen\n",
    "Vbar_do_0 = np.zeros(N, dtype=bool) # not gonna be used in T gen\n",
    "\n",
    "# Generate T for these interventions\n",
    "T_Vbar_do_1 = generate_T(h1, Hbar, U5)\n",
    "T_Vbar_do_0 = generate_T(h1, Hbar, U5)\n",
    "\n",
    "# Compute interventional expectations\n",
    "E_T_Vbar_do_1 = T_Vbar_do_1.mean()\n",
    "E_T_Vbar_do_0 = T_Vbar_do_0.mean()\n",
    "\n",
    "print(\"E[T|do(Vbar=1)]: \", E_T_Vbar_do_1)\n",
    "print(\"E[T|do(Vbar=0)]: \", E_T_Vbar_do_0)\n",
    "\n",
    "# compute the difference between E[T|do(Vbar=1)] and E[T|do(Vbar=0)]\n",
    "print(\"E[T|do(Vbar=1)] - E[T|do(Vbar=0)]: \", E_T_Vbar_do_1 - E_T_Vbar_do_0)"
   ]
  },
  {
   "cell_type": "code",
   "execution_count": 223,
   "metadata": {},
   "outputs": [
    {
     "name": "stdout",
     "output_type": "stream",
     "text": [
      "E[T|do(Hbar=1)]:  0.308431\n",
      "E[T|do(Hbar=0)]:  0.154306\n",
      "E[T|do(Hbar=1)] - E[T|do(Hbar=0)]:  0.154125\n"
     ]
    }
   ],
   "source": [
    "# Simulate data under do(Hbar=1) and do(Hbar=0)\n",
    "Hbar_do_1 = np.ones(N, dtype=bool)\n",
    "Hbar_do_0 = np.zeros(N, dtype=bool)\n",
    "\n",
    "# Generate T for these interventions\n",
    "T_Hbar_do_1 = generate_T(h1, Hbar_do_1, U5)\n",
    "T_Hbar_do_0 = generate_T(h1, Hbar_do_0, U5)\n",
    "\n",
    "# Compute interventional expectations\n",
    "E_T_Hbar_do_1 = T_Hbar_do_1.mean()\n",
    "E_T_Hbar_do_0 = T_Hbar_do_0.mean()\n",
    "\n",
    "print(\"E[T|do(Hbar=1)]: \", E_T_Hbar_do_1)\n",
    "print(\"E[T|do(Hbar=0)]: \", E_T_Hbar_do_0)\n",
    "\n",
    "# compute the difference between E[T|do(Hbar=1)] and E[T|do(Hbar=0)]\n",
    "print(\"E[T|do(Hbar=1)] - E[T|do(Hbar=0)]: \", E_T_Hbar_do_1 - E_T_Hbar_do_0)"
   ]
  }
 ],
 "metadata": {
  "kernelspec": {
   "display_name": "py38",
   "language": "python",
   "name": "python3"
  },
  "language_info": {
   "codemirror_mode": {
    "name": "ipython",
    "version": 3
   },
   "file_extension": ".py",
   "mimetype": "text/x-python",
   "name": "python",
   "nbconvert_exporter": "python",
   "pygments_lexer": "ipython3",
   "version": "3.8.16"
  },
  "orig_nbformat": 4
 },
 "nbformat": 4,
 "nbformat_minor": 2
}
